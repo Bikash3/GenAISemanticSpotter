{
  "nbformat": 4,
  "nbformat_minor": 0,
  "metadata": {
    "colab": {
      "provenance": []
    },
    "kernelspec": {
      "name": "python3",
      "display_name": "Python 3"
    },
    "language_info": {
      "name": "python"
    }
  },
  "cells": [
    {
      "cell_type": "markdown",
      "source": [
        "# Step 1: Import the necessary libraries"
      ],
      "metadata": {
        "id": "2JE1HfhBpG4t"
      }
    },
    {
      "cell_type": "code",
      "execution_count": 1,
      "metadata": {
        "id": "Jmo8cI0QWlHx"
      },
      "outputs": [],
      "source": [
        "# Installing nessary libraries\n",
        "\n",
        "!pip install -U -qq openai llama-index llama-index-core llama-index-readers-file llama-index-llms-openai llama-index-embeddings-openai"
      ]
    },
    {
      "cell_type": "code",
      "source": [
        "# Importing nessary libraries\n",
        "import os\n",
        "import random\n",
        "import openai\n",
        "from pathlib import Path\n",
        "import pandas as pd\n",
        "from IPython.display import display, HTML\n",
        "from llama_index.core import Settings\n",
        "from llama_index.core import SimpleDirectoryReader\n",
        "from llama_index.readers.file import PDFReader\n",
        "from llama_index.core import Document, VectorStoreIndex\n",
        "from llama_index.core.node_parser import SentenceSplitter\n",
        "from llama_index.embeddings.openai import OpenAIEmbedding\n",
        "from llama_index.llms.openai import OpenAI\n",
        "from llama_index.core.llms import ChatMessage\n",
        "from llama_index.core.evaluation import CorrectnessEvaluator, FaithfulnessEvaluator, RelevancyEvaluator, DatasetGenerator"
      ],
      "metadata": {
        "id": "TRlMAth7oUIX"
      },
      "execution_count": 2,
      "outputs": []
    },
    {
      "cell_type": "markdown",
      "source": [
        "# Step 2 : Mount your Google Drive and Set the API key"
      ],
      "metadata": {
        "id": "luznGZMdpBZR"
      }
    },
    {
      "cell_type": "code",
      "source": [
        "# Mount Google Drive\n",
        "from google.colab import drive\n",
        "drive.mount('/content/drive')"
      ],
      "metadata": {
        "colab": {
          "base_uri": "https://localhost:8080/"
        },
        "id": "hC8K91g4oiOL",
        "outputId": "0b91db19-4c7d-4d66-84a9-7cad036e3ed1"
      },
      "execution_count": 3,
      "outputs": [
        {
          "output_type": "stream",
          "name": "stdout",
          "text": [
            "Drive already mounted at /content/drive; to attempt to forcibly remount, call drive.mount(\"/content/drive\", force_remount=True).\n"
          ]
        }
      ]
    },
    {
      "cell_type": "code",
      "source": [
        "# Setting OpenAI API key\n",
        "from google.colab import userdata\n",
        "openai.api_key = userdata.get('OPENAI_API_KEY')\n",
        "os.environ[\"OPENAI_API_KEY\"] = userdata.get('OPENAI_API_KEY')"
      ],
      "metadata": {
        "id": "zeEedwjqolBX"
      },
      "execution_count": 4,
      "outputs": []
    },
    {
      "cell_type": "code",
      "source": [
        "# checking if the OpenAI API is working correctly\n",
        "messages = [\n",
        "    ChatMessage(role=\"system\", content=\"You are an AI assistant to the user.\"),\n",
        "    ChatMessage(role=\"user\", content=\"What is the revenue of Microsoft in 2023?\")\n",
        "]\n",
        "resp = OpenAI().chat(messages)\n",
        "print(resp)"
      ],
      "metadata": {
        "colab": {
          "base_uri": "https://localhost:8080/"
        },
        "id": "QUCnsC4YpQDp",
        "outputId": "425b19f1-3aa4-4107-deb3-46a754135e25"
      },
      "execution_count": 5,
      "outputs": [
        {
          "output_type": "stream",
          "name": "stdout",
          "text": [
            "assistant: I'm sorry, but I cannot provide real-time or future financial data as I do not have access to current or future information. I recommend checking Microsoft's official financial reports or news sources for the most up-to-date information on their revenue in 2023.\n"
          ]
        }
      ]
    },
    {
      "cell_type": "markdown",
      "source": [
        "# Step 3 - Data Loading (Ingestion)"
      ],
      "metadata": {
        "id": "F-HvfDFHpzv5"
      }
    },
    {
      "cell_type": "code",
      "source": [
        "# using PDFReader method to loader PDFs documents\n",
        "loader = PDFReader()\n",
        "document1 = loader.load_data(file = '/content/drive/MyDrive/Upgrad/GenAI_HelpMate_AI_Project/Principal-Sample-Life-Insurance-Policy.pdf')"
      ],
      "metadata": {
        "id": "vGTg8ewDpQf2"
      },
      "execution_count": 6,
      "outputs": []
    },
    {
      "cell_type": "code",
      "source": [
        "print('Loaded docs:', len(document1))\n",
        "type(document1)"
      ],
      "metadata": {
        "colab": {
          "base_uri": "https://localhost:8080/"
        },
        "id": "TdimO_qQqaVg",
        "outputId": "cc927b55-2b47-4962-b35f-77264c5a490f"
      },
      "execution_count": 7,
      "outputs": [
        {
          "output_type": "stream",
          "name": "stdout",
          "text": [
            "Loaded docs: 64\n"
          ]
        },
        {
          "output_type": "execute_result",
          "data": {
            "text/plain": [
              "list"
            ]
          },
          "metadata": {},
          "execution_count": 7
        }
      ]
    },
    {
      "cell_type": "code",
      "source": [
        "document1[0]"
      ],
      "metadata": {
        "colab": {
          "base_uri": "https://localhost:8080/"
        },
        "id": "He8RN6HDqikX",
        "outputId": "19cdd4f4-fadd-4922-d53d-d17d3a43e37f"
      },
      "execution_count": 8,
      "outputs": [
        {
          "output_type": "execute_result",
          "data": {
            "text/plain": [
              "Document(id_='efe72f91-0058-489f-9730-b805f004c990', embedding=None, metadata={'page_label': '1', 'file_name': 'Principal-Sample-Life-Insurance-Policy.pdf'}, excluded_embed_metadata_keys=[], excluded_llm_metadata_keys=[], relationships={}, metadata_template='{key}: {value}', metadata_separator='\\n', text_resource=MediaResource(embeddings=None, data=None, text=' \\n \\n \\n \\n \\nGROUP POLICY FOR: \\nRHODE ISLAND JOHN DOE \\n \\nALL MEMBERS \\nGroup Member Life Insurance \\n \\nPrint Date: 07/16/2014 \\n \\nDOROTHEA GLAUSE S655 \\nRHODE ISLAND JOHN DOE 01/01/2014 \\n711 HIGH STREET  \\nGEORGE RI 02903  \\n \\n \\n \\n \\n                                       ', path=None, url=None, mimetype=None), image_resource=None, audio_resource=None, video_resource=None, text_template='{metadata_str}\\n\\n{content}')"
            ]
          },
          "metadata": {},
          "execution_count": 8
        }
      ]
    },
    {
      "cell_type": "markdown",
      "source": [
        "# Step 4 - Building the query engine (Splitter, Embedding, VectorStore)"
      ],
      "metadata": {
        "id": "-3P2qBZR6gxc"
      }
    },
    {
      "cell_type": "code",
      "source": [
        "## Initialize the node_parser with the custom node settings\n",
        "Settings.node_parser = SentenceSplitter(chunk_size=512, chunk_overlap=20)\n",
        "\n",
        "##Initialize the embedding model\n",
        "Settings.embed_model = OpenAIEmbedding(model_name='text-embedding-ada-002')\n",
        "\n",
        "##Initialize the OpenAI model\n",
        "llm = OpenAI(model=\"gpt-3.5-turbo\", temperature=0, max_tokens=256)\n",
        "Settings.llm = llm\n",
        "\n",
        "## Initialize the num_output and the context window\n",
        "Settings.num_output = 512\n",
        "Settings.context_window = 3900\n",
        "\n",
        "# Create a VectorStoreIndex from a list of documents using the service context\n",
        "index = VectorStoreIndex.from_documents(document1)\n",
        "\n",
        "# Initialize a query engine for the index with a specified similarity top-k value\n",
        "query_engine = index.as_query_engine(similarity_top_k=3)\n",
        "chat_engine = index.as_chat_engine(chat_mode=\"condense_plus_context\", verbose=True)"
      ],
      "metadata": {
        "id": "80d3_yTNnXLh"
      },
      "execution_count": 57,
      "outputs": []
    },
    {
      "cell_type": "code",
      "source": [
        "response = query_engine.query(\"What is the insurance company name ?\")"
      ],
      "metadata": {
        "id": "Z0fkMSprkhPy"
      },
      "execution_count": 10,
      "outputs": []
    },
    {
      "cell_type": "code",
      "source": [
        "# Fetching the response value which contains the actual response inside the response object\n",
        "response.response"
      ],
      "metadata": {
        "colab": {
          "base_uri": "https://localhost:8080/",
          "height": 36
        },
        "id": "W2LHm4dnk98A",
        "outputId": "6912ae66-c037-4778-a1b4-a469b9f5800d"
      },
      "execution_count": 11,
      "outputs": [
        {
          "output_type": "execute_result",
          "data": {
            "text/plain": [
              "'The insurance company name is Principal Life Insurance Company.'"
            ],
            "application/vnd.google.colaboratory.intrinsic+json": {
              "type": "string"
            }
          },
          "metadata": {},
          "execution_count": 11
        }
      ]
    },
    {
      "cell_type": "markdown",
      "source": [
        "# Step 5 - Creating a response Pipeline"
      ],
      "metadata": {
        "id": "sAzbBlMtqU-d"
      }
    },
    {
      "cell_type": "code",
      "source": [
        "## Query response function\n",
        "def query_response(user_input):\n",
        "  response = query_engine.query(user_input)\n",
        "  file_name = response.source_nodes[0].node.metadata['file_name']\n",
        "  page_numbers = [response.source_nodes[i].node.metadata['page_label'] for i in range(len(response.source_nodes))]\n",
        "  final_response = {\"response\": response.response, \"file_name\": file_name, \"page_number\": page_numbers}\n",
        "  return final_response"
      ],
      "metadata": {
        "id": "6msAdoV6qT-9"
      },
      "execution_count": 12,
      "outputs": []
    },
    {
      "cell_type": "code",
      "metadata": {
        "id": "28c578a7"
      },
      "source": [
        "def initialize_conv():\n",
        "  print('Feel free to ask Questions regarding insurance document. Press exit once you are done')\n",
        "  while True:\n",
        "    user_input = input()\n",
        "    # Type 'exit' to exit conversation\n",
        "    if user_input.lower() == 'exit':\n",
        "      print('Exiting the program... bye')\n",
        "      break\n",
        "    else:\n",
        "      # Pass only the user input string to the chat_engine.chat method\n",
        "      response = chat_engine.chat(user_input)\n",
        "      response_text = response.response\n",
        "      display(HTML(f'<p style=\"font-size:20px\"><b>User:</b> {user_input}</p>'))\n",
        "      display(HTML(f'<p style=\"font-size:20px\"><b>Assistant:</b> {response_text}</p>'))"
      ],
      "execution_count": 53,
      "outputs": []
    },
    {
      "cell_type": "markdown",
      "source": [
        "# Step 6 - Building a Testing Pipeline"
      ],
      "metadata": {
        "id": "rY_KXIIlqzKF"
      }
    },
    {
      "cell_type": "code",
      "source": [
        "def testing_pipeline(questions):\n",
        "  test_feedback  = []\n",
        "  for i in questions:\n",
        "    res = query_response(i)\n",
        "    response_text = res['response']\n",
        "    page_info = ', '.join(res['page_number'])\n",
        "    test_feedback.append((i, response_text, page_info))\n",
        "\n",
        "  feedback_df = pd.DataFrame(test_feedback, columns =['Question', 'Response', 'Page'])\n",
        "  return feedback_df"
      ],
      "metadata": {
        "id": "EETQEtSGq8lW"
      },
      "execution_count": 15,
      "outputs": []
    },
    {
      "cell_type": "code",
      "source": [
        "questions = [\n",
        "    \"What is the insurance company name ?\",\n",
        "    \"What is the insurance company address ?\",\n",
        "    \"What is the name of the employer ?\"\n",
        "    \"What is the city and zip code for RHODE ISLAND JOHN DOE's address?\",\n",
        "    \"What is the page label for the document?\",\n",
        "    \"What is the file name of the document?\"\n",
        "]"
      ],
      "metadata": {
        "id": "475x-T88qsFn"
      },
      "execution_count": 16,
      "outputs": []
    },
    {
      "cell_type": "code",
      "source": [
        "testing_pipeline(questions)"
      ],
      "metadata": {
        "colab": {
          "base_uri": "https://localhost:8080/",
          "height": 206
        },
        "collapsed": true,
        "id": "8rjqisI9q9QB",
        "outputId": "b860cf8e-c615-40ce-ea59-d4ad9527718c"
      },
      "execution_count": 17,
      "outputs": [
        {
          "output_type": "execute_result",
          "data": {
            "text/plain": [
              "                                            Question  \\\n",
              "0               What is the insurance company name ?   \n",
              "1            What is the insurance company address ?   \n",
              "2  What is the name of the employer ?What is the ...   \n",
              "3           What is the page label for the document?   \n",
              "4             What is the file name of the document?   \n",
              "\n",
              "                                            Response      Page  \n",
              "0  The insurance company name is Principal Life I...  64, 5, 3  \n",
              "1                        DES MOINES, IOWA 50392-0001  64, 5, 3  \n",
              "2  The name of the employer is RHODE ISLAND JOHN ...   1, 3, 5  \n",
              "3  The page label for the document is the number ...  2, 4, 63  \n",
              "4         Principal-Sample-Life-Insurance-Policy.pdf  2, 4, 15  "
            ],
            "text/html": [
              "\n",
              "  <div id=\"df-2b7884af-a44b-4b5c-ab1e-96eb48e21766\" class=\"colab-df-container\">\n",
              "    <div>\n",
              "<style scoped>\n",
              "    .dataframe tbody tr th:only-of-type {\n",
              "        vertical-align: middle;\n",
              "    }\n",
              "\n",
              "    .dataframe tbody tr th {\n",
              "        vertical-align: top;\n",
              "    }\n",
              "\n",
              "    .dataframe thead th {\n",
              "        text-align: right;\n",
              "    }\n",
              "</style>\n",
              "<table border=\"1\" class=\"dataframe\">\n",
              "  <thead>\n",
              "    <tr style=\"text-align: right;\">\n",
              "      <th></th>\n",
              "      <th>Question</th>\n",
              "      <th>Response</th>\n",
              "      <th>Page</th>\n",
              "    </tr>\n",
              "  </thead>\n",
              "  <tbody>\n",
              "    <tr>\n",
              "      <th>0</th>\n",
              "      <td>What is the insurance company name ?</td>\n",
              "      <td>The insurance company name is Principal Life I...</td>\n",
              "      <td>64, 5, 3</td>\n",
              "    </tr>\n",
              "    <tr>\n",
              "      <th>1</th>\n",
              "      <td>What is the insurance company address ?</td>\n",
              "      <td>DES MOINES, IOWA 50392-0001</td>\n",
              "      <td>64, 5, 3</td>\n",
              "    </tr>\n",
              "    <tr>\n",
              "      <th>2</th>\n",
              "      <td>What is the name of the employer ?What is the ...</td>\n",
              "      <td>The name of the employer is RHODE ISLAND JOHN ...</td>\n",
              "      <td>1, 3, 5</td>\n",
              "    </tr>\n",
              "    <tr>\n",
              "      <th>3</th>\n",
              "      <td>What is the page label for the document?</td>\n",
              "      <td>The page label for the document is the number ...</td>\n",
              "      <td>2, 4, 63</td>\n",
              "    </tr>\n",
              "    <tr>\n",
              "      <th>4</th>\n",
              "      <td>What is the file name of the document?</td>\n",
              "      <td>Principal-Sample-Life-Insurance-Policy.pdf</td>\n",
              "      <td>2, 4, 15</td>\n",
              "    </tr>\n",
              "  </tbody>\n",
              "</table>\n",
              "</div>\n",
              "    <div class=\"colab-df-buttons\">\n",
              "\n",
              "  <div class=\"colab-df-container\">\n",
              "    <button class=\"colab-df-convert\" onclick=\"convertToInteractive('df-2b7884af-a44b-4b5c-ab1e-96eb48e21766')\"\n",
              "            title=\"Convert this dataframe to an interactive table.\"\n",
              "            style=\"display:none;\">\n",
              "\n",
              "  <svg xmlns=\"http://www.w3.org/2000/svg\" height=\"24px\" viewBox=\"0 -960 960 960\">\n",
              "    <path d=\"M120-120v-720h720v720H120Zm60-500h600v-160H180v160Zm220 220h160v-160H400v160Zm0 220h160v-160H400v160ZM180-400h160v-160H180v160Zm440 0h160v-160H620v160ZM180-180h160v-160H180v160Zm440 0h160v-160H620v160Z\"/>\n",
              "  </svg>\n",
              "    </button>\n",
              "\n",
              "  <style>\n",
              "    .colab-df-container {\n",
              "      display:flex;\n",
              "      gap: 12px;\n",
              "    }\n",
              "\n",
              "    .colab-df-convert {\n",
              "      background-color: #E8F0FE;\n",
              "      border: none;\n",
              "      border-radius: 50%;\n",
              "      cursor: pointer;\n",
              "      display: none;\n",
              "      fill: #1967D2;\n",
              "      height: 32px;\n",
              "      padding: 0 0 0 0;\n",
              "      width: 32px;\n",
              "    }\n",
              "\n",
              "    .colab-df-convert:hover {\n",
              "      background-color: #E2EBFA;\n",
              "      box-shadow: 0px 1px 2px rgba(60, 64, 67, 0.3), 0px 1px 3px 1px rgba(60, 64, 67, 0.15);\n",
              "      fill: #174EA6;\n",
              "    }\n",
              "\n",
              "    .colab-df-buttons div {\n",
              "      margin-bottom: 4px;\n",
              "    }\n",
              "\n",
              "    [theme=dark] .colab-df-convert {\n",
              "      background-color: #3B4455;\n",
              "      fill: #D2E3FC;\n",
              "    }\n",
              "\n",
              "    [theme=dark] .colab-df-convert:hover {\n",
              "      background-color: #434B5C;\n",
              "      box-shadow: 0px 1px 3px 1px rgba(0, 0, 0, 0.15);\n",
              "      filter: drop-shadow(0px 1px 2px rgba(0, 0, 0, 0.3));\n",
              "      fill: #FFFFFF;\n",
              "    }\n",
              "  </style>\n",
              "\n",
              "    <script>\n",
              "      const buttonEl =\n",
              "        document.querySelector('#df-2b7884af-a44b-4b5c-ab1e-96eb48e21766 button.colab-df-convert');\n",
              "      buttonEl.style.display =\n",
              "        google.colab.kernel.accessAllowed ? 'block' : 'none';\n",
              "\n",
              "      async function convertToInteractive(key) {\n",
              "        const element = document.querySelector('#df-2b7884af-a44b-4b5c-ab1e-96eb48e21766');\n",
              "        const dataTable =\n",
              "          await google.colab.kernel.invokeFunction('convertToInteractive',\n",
              "                                                    [key], {});\n",
              "        if (!dataTable) return;\n",
              "\n",
              "        const docLinkHtml = 'Like what you see? Visit the ' +\n",
              "          '<a target=\"_blank\" href=https://colab.research.google.com/notebooks/data_table.ipynb>data table notebook</a>'\n",
              "          + ' to learn more about interactive tables.';\n",
              "        element.innerHTML = '';\n",
              "        dataTable['output_type'] = 'display_data';\n",
              "        await google.colab.output.renderOutput(dataTable, element);\n",
              "        const docLink = document.createElement('div');\n",
              "        docLink.innerHTML = docLinkHtml;\n",
              "        element.appendChild(docLink);\n",
              "      }\n",
              "    </script>\n",
              "  </div>\n",
              "\n",
              "\n",
              "    <div id=\"df-9e626324-cc6a-4329-93b2-f77560f61677\">\n",
              "      <button class=\"colab-df-quickchart\" onclick=\"quickchart('df-9e626324-cc6a-4329-93b2-f77560f61677')\"\n",
              "                title=\"Suggest charts\"\n",
              "                style=\"display:none;\">\n",
              "\n",
              "<svg xmlns=\"http://www.w3.org/2000/svg\" height=\"24px\"viewBox=\"0 0 24 24\"\n",
              "     width=\"24px\">\n",
              "    <g>\n",
              "        <path d=\"M19 3H5c-1.1 0-2 .9-2 2v14c0 1.1.9 2 2 2h14c1.1 0 2-.9 2-2V5c0-1.1-.9-2-2-2zM9 17H7v-7h2v7zm4 0h-2V7h2v10zm4 0h-2v-4h2v4z\"/>\n",
              "    </g>\n",
              "</svg>\n",
              "      </button>\n",
              "\n",
              "<style>\n",
              "  .colab-df-quickchart {\n",
              "      --bg-color: #E8F0FE;\n",
              "      --fill-color: #1967D2;\n",
              "      --hover-bg-color: #E2EBFA;\n",
              "      --hover-fill-color: #174EA6;\n",
              "      --disabled-fill-color: #AAA;\n",
              "      --disabled-bg-color: #DDD;\n",
              "  }\n",
              "\n",
              "  [theme=dark] .colab-df-quickchart {\n",
              "      --bg-color: #3B4455;\n",
              "      --fill-color: #D2E3FC;\n",
              "      --hover-bg-color: #434B5C;\n",
              "      --hover-fill-color: #FFFFFF;\n",
              "      --disabled-bg-color: #3B4455;\n",
              "      --disabled-fill-color: #666;\n",
              "  }\n",
              "\n",
              "  .colab-df-quickchart {\n",
              "    background-color: var(--bg-color);\n",
              "    border: none;\n",
              "    border-radius: 50%;\n",
              "    cursor: pointer;\n",
              "    display: none;\n",
              "    fill: var(--fill-color);\n",
              "    height: 32px;\n",
              "    padding: 0;\n",
              "    width: 32px;\n",
              "  }\n",
              "\n",
              "  .colab-df-quickchart:hover {\n",
              "    background-color: var(--hover-bg-color);\n",
              "    box-shadow: 0 1px 2px rgba(60, 64, 67, 0.3), 0 1px 3px 1px rgba(60, 64, 67, 0.15);\n",
              "    fill: var(--button-hover-fill-color);\n",
              "  }\n",
              "\n",
              "  .colab-df-quickchart-complete:disabled,\n",
              "  .colab-df-quickchart-complete:disabled:hover {\n",
              "    background-color: var(--disabled-bg-color);\n",
              "    fill: var(--disabled-fill-color);\n",
              "    box-shadow: none;\n",
              "  }\n",
              "\n",
              "  .colab-df-spinner {\n",
              "    border: 2px solid var(--fill-color);\n",
              "    border-color: transparent;\n",
              "    border-bottom-color: var(--fill-color);\n",
              "    animation:\n",
              "      spin 1s steps(1) infinite;\n",
              "  }\n",
              "\n",
              "  @keyframes spin {\n",
              "    0% {\n",
              "      border-color: transparent;\n",
              "      border-bottom-color: var(--fill-color);\n",
              "      border-left-color: var(--fill-color);\n",
              "    }\n",
              "    20% {\n",
              "      border-color: transparent;\n",
              "      border-left-color: var(--fill-color);\n",
              "      border-top-color: var(--fill-color);\n",
              "    }\n",
              "    30% {\n",
              "      border-color: transparent;\n",
              "      border-left-color: var(--fill-color);\n",
              "      border-top-color: var(--fill-color);\n",
              "      border-right-color: var(--fill-color);\n",
              "    }\n",
              "    40% {\n",
              "      border-color: transparent;\n",
              "      border-right-color: var(--fill-color);\n",
              "      border-top-color: var(--fill-color);\n",
              "    }\n",
              "    60% {\n",
              "      border-color: transparent;\n",
              "      border-right-color: var(--fill-color);\n",
              "    }\n",
              "    80% {\n",
              "      border-color: transparent;\n",
              "      border-right-color: var(--fill-color);\n",
              "      border-bottom-color: var(--fill-color);\n",
              "    }\n",
              "    90% {\n",
              "      border-color: transparent;\n",
              "      border-bottom-color: var(--fill-color);\n",
              "    }\n",
              "  }\n",
              "</style>\n",
              "\n",
              "      <script>\n",
              "        async function quickchart(key) {\n",
              "          const quickchartButtonEl =\n",
              "            document.querySelector('#' + key + ' button');\n",
              "          quickchartButtonEl.disabled = true;  // To prevent multiple clicks.\n",
              "          quickchartButtonEl.classList.add('colab-df-spinner');\n",
              "          try {\n",
              "            const charts = await google.colab.kernel.invokeFunction(\n",
              "                'suggestCharts', [key], {});\n",
              "          } catch (error) {\n",
              "            console.error('Error during call to suggestCharts:', error);\n",
              "          }\n",
              "          quickchartButtonEl.classList.remove('colab-df-spinner');\n",
              "          quickchartButtonEl.classList.add('colab-df-quickchart-complete');\n",
              "        }\n",
              "        (() => {\n",
              "          let quickchartButtonEl =\n",
              "            document.querySelector('#df-9e626324-cc6a-4329-93b2-f77560f61677 button');\n",
              "          quickchartButtonEl.style.display =\n",
              "            google.colab.kernel.accessAllowed ? 'block' : 'none';\n",
              "        })();\n",
              "      </script>\n",
              "    </div>\n",
              "\n",
              "    </div>\n",
              "  </div>\n"
            ],
            "application/vnd.google.colaboratory.intrinsic+json": {
              "type": "dataframe",
              "summary": "{\n  \"name\": \"testing_pipeline(questions)\",\n  \"rows\": 5,\n  \"fields\": [\n    {\n      \"column\": \"Question\",\n      \"properties\": {\n        \"dtype\": \"string\",\n        \"num_unique_values\": 5,\n        \"samples\": [\n          \"What is the insurance company address ?\",\n          \"What is the file name of the document?\",\n          \"What is the name of the employer ?What is the city and zip code for RHODE ISLAND JOHN DOE's address?\"\n        ],\n        \"semantic_type\": \"\",\n        \"description\": \"\"\n      }\n    },\n    {\n      \"column\": \"Response\",\n      \"properties\": {\n        \"dtype\": \"string\",\n        \"num_unique_values\": 5,\n        \"samples\": [\n          \"DES MOINES, IOWA 50392-0001\",\n          \"Principal-Sample-Life-Insurance-Policy.pdf\",\n          \"The name of the employer is RHODE ISLAND JOHN DOE. The city for RHODE ISLAND JOHN DOE's address is GEORGE and the zip code is 02903.\"\n        ],\n        \"semantic_type\": \"\",\n        \"description\": \"\"\n      }\n    },\n    {\n      \"column\": \"Page\",\n      \"properties\": {\n        \"dtype\": \"object\",\n        \"num_unique_values\": 4,\n        \"samples\": [\n          \"1, 3, 5\",\n          \"2, 4, 15\",\n          \"64, 5, 3\"\n        ],\n        \"semantic_type\": \"\",\n        \"description\": \"\"\n      }\n    }\n  ]\n}"
            }
          },
          "metadata": {},
          "execution_count": 17
        }
      ]
    },
    {
      "cell_type": "markdown",
      "source": [
        "# Step 7 - Evaluating response"
      ],
      "metadata": {
        "id": "PKb2sDDas_Rc"
      }
    },
    {
      "cell_type": "code",
      "source": [
        "# generating questions\n",
        "data_generator = DatasetGenerator.from_documents(document1)\n",
        "eval_questions = data_generator.generate_questions_from_nodes()"
      ],
      "metadata": {
        "id": "QJDdPw4LrKfB",
        "colab": {
          "base_uri": "https://localhost:8080/"
        },
        "outputId": "5ebb7d81-b8d3-4b10-bf61-8d4708e31645"
      },
      "execution_count": 18,
      "outputs": [
        {
          "output_type": "stream",
          "name": "stderr",
          "text": [
            "/usr/local/lib/python3.12/dist-packages/llama_index/core/evaluation/dataset_generation.py:201: DeprecationWarning: Call to deprecated class DatasetGenerator. (Deprecated in favor of `RagDatasetGenerator` which should be used instead.)\n",
            "  return cls(\n",
            "/usr/local/lib/python3.12/dist-packages/llama_index/core/evaluation/dataset_generation.py:297: DeprecationWarning: Call to deprecated class QueryResponseDataset. (Deprecated in favor of `LabelledRagDataset` which should be used instead.)\n",
            "  return QueryResponseDataset(queries=queries, responses=responses_dict)\n"
          ]
        }
      ]
    },
    {
      "cell_type": "markdown",
      "source": [
        "## 1. Evaluating response using Relevancy Evaluator\n",
        "> The Relevancy Evaluator assesses how relevant a generated response is to the user's query. It helps determine if the answer directly addresses the question asked."
      ],
      "metadata": {
        "id": "WCpNHQ0854cm"
      }
    },
    {
      "cell_type": "code",
      "source": [
        "# Create RelevancyEvaluator using GPT-4 LLM\n",
        "relevancy_evaluator = RelevancyEvaluator()"
      ],
      "metadata": {
        "id": "8JKXhedAsbKY"
      },
      "execution_count": 19,
      "outputs": []
    },
    {
      "cell_type": "code",
      "source": [
        "question_number = random.randint(0, len(eval_questions))\n",
        "\n",
        "# Generate response\n",
        "response_vector = query_engine.query(eval_questions[question_number])\n",
        "\n",
        "# Evaluation\n",
        "relevancy_eval_result = relevancy_evaluator.evaluate_response(\n",
        "    query=eval_questions[question_number], response=response_vector\n",
        ")"
      ],
      "metadata": {
        "id": "7YVxxFBAvgkP",
        "colab": {
          "base_uri": "https://localhost:8080/"
        },
        "outputId": "126b10c5-2f8f-4224-f451-cfdbfeae17fb"
      },
      "execution_count": 20,
      "outputs": [
        {
          "output_type": "stream",
          "name": "stderr",
          "text": [
            "WARNING:llama_index.llms.openai.utils:Retrying llama_index.llms.openai.base.OpenAI._achat in 0.12570314194438048 seconds as it raised APIConnectionError: Connection error..\n"
          ]
        }
      ]
    },
    {
      "cell_type": "code",
      "source": [
        "relevancy_eval_result.query"
      ],
      "metadata": {
        "colab": {
          "base_uri": "https://localhost:8080/",
          "height": 36
        },
        "id": "6ZIR_AMMvjIt",
        "outputId": "31d63c03-2ce2-487d-c464-da62fefd89ef"
      },
      "execution_count": 21,
      "outputs": [
        {
          "output_type": "execute_result",
          "data": {
            "text/plain": [
              "'What must a Dependent do in order to have their individual policy issued and in force after their coverage under the Group Policy terminates?'"
            ],
            "application/vnd.google.colaboratory.intrinsic+json": {
              "type": "string"
            }
          },
          "metadata": {},
          "execution_count": 21
        }
      ]
    },
    {
      "cell_type": "code",
      "source": [
        "relevancy_eval_result.response"
      ],
      "metadata": {
        "colab": {
          "base_uri": "https://localhost:8080/",
          "height": 72
        },
        "id": "H8VyXiXjv16e",
        "outputId": "4da98417-9602-4742-fcf9-a72658b2a288"
      },
      "execution_count": 22,
      "outputs": [
        {
          "output_type": "execute_result",
          "data": {
            "text/plain": [
              "'A Dependent must apply for individual purchase within 31 days after their coverage under the Group Policy terminates. The first premium for the individual policy must be paid to The Principal within this timeframe. The individual policy will then be in force on the 32nd day after the termination date of the coverage under the Group Policy.'"
            ],
            "application/vnd.google.colaboratory.intrinsic+json": {
              "type": "string"
            }
          },
          "metadata": {},
          "execution_count": 22
        }
      ]
    },
    {
      "cell_type": "code",
      "source": [
        "relevancy_eval_result.passing"
      ],
      "metadata": {
        "colab": {
          "base_uri": "https://localhost:8080/"
        },
        "id": "SO870fV5v96E",
        "outputId": "38083ca6-2b4a-4a6c-fa67-1694633bb4a0"
      },
      "execution_count": 23,
      "outputs": [
        {
          "output_type": "execute_result",
          "data": {
            "text/plain": [
              "True"
            ]
          },
          "metadata": {},
          "execution_count": 23
        }
      ]
    },
    {
      "cell_type": "code",
      "source": [
        "relevancy_eval_result.feedback"
      ],
      "metadata": {
        "colab": {
          "base_uri": "https://localhost:8080/",
          "height": 36
        },
        "id": "opQH9XQw91y5",
        "outputId": "95b21e31-f7b0-4f70-d208-778ca099e4ee"
      },
      "execution_count": 24,
      "outputs": [
        {
          "output_type": "execute_result",
          "data": {
            "text/plain": [
              "'YES'"
            ],
            "application/vnd.google.colaboratory.intrinsic+json": {
              "type": "string"
            }
          },
          "metadata": {},
          "execution_count": 24
        }
      ]
    },
    {
      "cell_type": "code",
      "source": [
        "relevancy_eval_result.score"
      ],
      "metadata": {
        "colab": {
          "base_uri": "https://localhost:8080/"
        },
        "id": "LVGswo_r97O8",
        "outputId": "73d07124-5f6b-437b-c8df-b2f05161f0c9"
      },
      "execution_count": 25,
      "outputs": [
        {
          "output_type": "execute_result",
          "data": {
            "text/plain": [
              "1.0"
            ]
          },
          "metadata": {},
          "execution_count": 25
        }
      ]
    },
    {
      "cell_type": "markdown",
      "source": [
        "## 2. Evaluating response using Correctness Evaluator\n",
        "> Evaluates the relevance and correctness of a generated answer against a reference answer."
      ],
      "metadata": {
        "id": "7jZavIz96DYq"
      }
    },
    {
      "cell_type": "code",
      "source": [
        "correctness_evaluator = CorrectnessEvaluator()"
      ],
      "metadata": {
        "id": "gyvMKWJDwGKF"
      },
      "execution_count": 26,
      "outputs": []
    },
    {
      "cell_type": "code",
      "source": [
        "query = eval_questions[question_number]\n",
        "response_text = response_vector.response  # Extract the response text\n",
        "reference = document1[9].text\n",
        "\n",
        "correctness_eval_result = correctness_evaluator.evaluate(\n",
        "    query=query,\n",
        "    response=response_text,  # Pass the response text string\n",
        "    reference=reference,\n",
        ")"
      ],
      "metadata": {
        "id": "ru93-ZY76H-U"
      },
      "execution_count": 27,
      "outputs": []
    },
    {
      "cell_type": "code",
      "source": [
        "correctness_eval_result.score"
      ],
      "metadata": {
        "colab": {
          "base_uri": "https://localhost:8080/"
        },
        "id": "JSY6Dagn6hKf",
        "outputId": "77c11f9c-d510-434c-eefc-00dea3e63c65"
      },
      "execution_count": 28,
      "outputs": [
        {
          "output_type": "execute_result",
          "data": {
            "text/plain": [
              "4.0"
            ]
          },
          "metadata": {},
          "execution_count": 28
        }
      ]
    },
    {
      "cell_type": "code",
      "source": [
        "correctness_eval_result.passing"
      ],
      "metadata": {
        "colab": {
          "base_uri": "https://localhost:8080/"
        },
        "id": "Swl_Qr2M6q6U",
        "outputId": "4e634a88-45f5-4c5b-e51d-d21bf60911e7"
      },
      "execution_count": 29,
      "outputs": [
        {
          "output_type": "execute_result",
          "data": {
            "text/plain": [
              "True"
            ]
          },
          "metadata": {},
          "execution_count": 29
        }
      ]
    },
    {
      "cell_type": "code",
      "source": [
        "correctness_eval_result.feedback"
      ],
      "metadata": {
        "colab": {
          "base_uri": "https://localhost:8080/",
          "height": 72
        },
        "id": "UDL-Bhm06s42",
        "outputId": "1b31c3f7-30aa-484f-8532-5c8f27ad0bde"
      },
      "execution_count": 30,
      "outputs": [
        {
          "output_type": "execute_result",
          "data": {
            "text/plain": [
              "'The generated answer provides a relevant and correct response to the user query. It explains that a Dependent must apply for an individual policy within 31 days after their coverage under the Group Policy terminates, pay the first premium to The Principal within this timeframe, and the individual policy will be in force on the 32nd day after termination. The information aligns with the requirements outlined in the reference answer.'"
            ],
            "application/vnd.google.colaboratory.intrinsic+json": {
              "type": "string"
            }
          },
          "metadata": {},
          "execution_count": 30
        }
      ]
    },
    {
      "cell_type": "markdown",
      "source": [
        "## 3. Evaluating response using Faithfulness Evaluator\n",
        ">  Measures if the response from a query engine matches any source nodes. This is useful for measuring if the response was hallucinated."
      ],
      "metadata": {
        "id": "7ZV3yOeo8vWk"
      }
    },
    {
      "cell_type": "code",
      "source": [
        "faithfulness_evaluator = FaithfulnessEvaluator()"
      ],
      "metadata": {
        "id": "DLexZ8lX6u_L"
      },
      "execution_count": 31,
      "outputs": []
    },
    {
      "cell_type": "code",
      "source": [
        "faithfulness_eval_result = faithfulness_evaluator.evaluate_response(response=response_vector)"
      ],
      "metadata": {
        "id": "_i6CFh3f83Wz"
      },
      "execution_count": 32,
      "outputs": []
    },
    {
      "cell_type": "code",
      "source": [
        "faithfulness_eval_result.passing"
      ],
      "metadata": {
        "colab": {
          "base_uri": "https://localhost:8080/"
        },
        "id": "C_DdU_i98806",
        "outputId": "ded19ff8-63ad-4ce9-d4f5-b06d95afc59d"
      },
      "execution_count": 33,
      "outputs": [
        {
          "output_type": "execute_result",
          "data": {
            "text/plain": [
              "True"
            ]
          },
          "metadata": {},
          "execution_count": 33
        }
      ]
    },
    {
      "cell_type": "code",
      "source": [
        "faithfulness_eval_result.feedback"
      ],
      "metadata": {
        "colab": {
          "base_uri": "https://localhost:8080/",
          "height": 36
        },
        "id": "iKFq7Z-J9D4U",
        "outputId": "9a85304a-335c-4c3f-f8fd-b8cee41b3d55"
      },
      "execution_count": 34,
      "outputs": [
        {
          "output_type": "execute_result",
          "data": {
            "text/plain": [
              "'YES'"
            ],
            "application/vnd.google.colaboratory.intrinsic+json": {
              "type": "string"
            }
          },
          "metadata": {},
          "execution_count": 34
        }
      ]
    },
    {
      "cell_type": "code",
      "source": [
        "faithfulness_eval_result.score"
      ],
      "metadata": {
        "colab": {
          "base_uri": "https://localhost:8080/"
        },
        "id": "6h8VM9Le9tuP",
        "outputId": "f1d4370b-49e5-4bd9-fca1-da0c5216d2f5"
      },
      "execution_count": 35,
      "outputs": [
        {
          "output_type": "execute_result",
          "data": {
            "text/plain": [
              "1.0"
            ]
          },
          "metadata": {},
          "execution_count": 35
        }
      ]
    },
    {
      "cell_type": "code",
      "source": [
        "faithfulness_eval_result"
      ],
      "metadata": {
        "colab": {
          "base_uri": "https://localhost:8080/"
        },
        "id": "XwYFF5MC9xZL",
        "outputId": "28ae6809-7525-40c5-c3bc-1cb6cbfd6bff"
      },
      "execution_count": 36,
      "outputs": [
        {
          "output_type": "execute_result",
          "data": {
            "text/plain": [
              "EvaluationResult(query=None, contexts=[\"This policy has been updated effective  January 1, 2014 \\n \\nPART III - INDIVIDUAL REQUIREMENTS AND RIGHTS \\nGC 6011  Section F - Individual Purchase Rights, Page 3  \\n \\n(4) Premium will be based on the Dependent's age and the standard rate of The Principal \\nfor the policy form to be issued. \\n \\nb. Purchase Qualification \\n \\nA Dependent will qualify for individual purchase if: \\n \\n(1) Dependent Life Insurance, or any portion of it, terminates because he or she ceases to \\nbe a Dependent as defined in PART I; or because the Member dies, ends Active \\nWork, or ceases to be in a class eligible for such insurance; or \\n(2) the Dependent spouse's Dependent Life Insurance terminates as described in PART \\nIII, Section C; or \\n(3) the Dependent spouse's or Civil Union Partner's Dependent Life Insurance terminates \\nbecause of divorce or separation or termination of a Civil Union partnership from the \\nMember; or \\n(4) after the Dependent has been continuously insured for Dependent Life Insurance for \\nat least five years, such insurance terminates because the Group Policy terminates, or \\nis amended to eliminate Dependent Life Insurance, or the Member's insurance class; \\nor \\n(5) the Dependent's Life Insurance terminates because the Member's Coverage During \\nDisability as described in PART IV, Section A, ceases because Total Disability ends \\nand the Member does not return to Active Work within 31 days ; or \\n(6) the Dependent's Life Insurance terminates because the Member's Accelerated \\nBenefits Premium Waiver Period as described in PART IV, Section A, ceases and the \\nMember does not qualify for Coverage During Disability. \\n \\nc. Application/Effective Date \\n \\nNotice of the individual purchase right must be given to the Member by the Policyholder \\nbefore insurance under this Group Policy terminates, or as soon as reasonably possible \\nthereafter. \\n \\nA Dependent must apply for individual purchase and the first premium for the individual \\npolicy must be paid to The Principal within 31 days after the date Dependent Life \\nInsurance for the Dependent terminates under this Group Policy. \\n \\nAny individual policy issued will then be in force on the 32nd day after such termination \\ndate.\", 'This policy has been updated effective  January 1, 2014 \\n \\n \\nPART III - INDIVIDUAL REQUIREMENTS AND RIGHTS \\nGC 6010 Section E - Reinstatement, Page 2  \\n \\nIf coverage for a Member or Dependent terminates because the person is outside of the United \\nStates as discussed in PART III, Section C, Article 5, the Member or Dependent may become \\neligible again for coverage under this Group Policy, but only if: \\n \\na. the Member or Dependent return to the United States within six months of the date on \\nwhich coverage terminated because the person is outside of the United States; and \\n \\nb. in the case of a Member, the Member returns to Active Work in the United States for the \\nPolicyholder for a period of at least 30 consecutive days.  The Member will be eligible for \\ncoverage on the day immediately following completion of the 30 consecutive days of \\nActive Work; and \\n \\nc. in the case of the Dependent, he or she remains in the United States for 30 consecutive \\ndays.  If the Dependent does so, he or she will be eligible for reinstatement of coverage on \\nthe day after completion of the 30 consecutive days of residence. \\n \\nThe reinstated coverage will be on the same basis as that being provided on the date coverage is \\nreinstated.  However, any restrictions on this coverage that were in effect before reinstatement \\nwill continue to apply.  If the Member or Dependent does not complete the 30 consecutive days \\nof residence, the coverage for such person will not be reinstated.', \"This policy has been updated effective  January 1, 2014 \\n \\n \\nPART III - INDIVIDUAL REQUIREMENTS AND RIGHTS \\nGC 6008 Section C - Individual Terminations, Page 2  \\n \\nA Member's insurance under this Group Policy for a Dependent will terminate on the earliest of: \\n \\na. the date his or her Member Life Insurance ceases; or \\n \\nb. the date Dependent Life Insurance is removed from this Group Policy; or \\n \\nc. the date the last premium is paid for the Member's Dependent Life Insurance; or \\n \\nd. any date desired, if requested by the Member before that date; or \\n \\ne. the date the Member ceases to be in a class for which Dependent Life Insurance is \\nprovided; or \\n \\nf. for a Dependent spouse on the date that Dependent spouse ceases to be a Dependent as \\ndefined in PART I; or \\n \\ng. for each Dependent Child, on the date that Dep endent Child ceases to be a Dependent as \\ndefined in PART I. \\n \\n \\nArticle 4 - Termination for Fraud \\n \\nThe Principal may at any time terminate a Member's or Dependent's eligibility under the Group \\nPolicy: \\n \\na. in Writing and with 31-day notice, if the individual submits any claim that contains false or \\nfraudulent elements under state or federal law; or \\n \\nb. in Writing and with 31 -day notice, upon finding in a civil or criminal case that a Member \\nor Dependent has submitted claims that contain false or fraudulent ele ments under state or \\nfederal law; or \\n \\nc. in Writing and with 31- day notice, when a Member or Dependent has submitted a claim \\nwhich, in good faith judgement and investigation, a Member or Dependent knew or should \\nhave known, contains false or fraudulent elements under state or federal law. \\n \\n \\nArticle 5 - Coverage While Outside of the United States \\n \\nIf a Member or Dependent is temporarily outside the United States, the Member or Dependent \\nmay choose to continue his or her insurance, subject to premium payment for a period of six \\nmonths or less for one of the following reasons: \\n \\na. travel; or\"], response='A Dependent must apply for individual purchase within 31 days after their coverage under the Group Policy terminates. The first premium for the individual policy must be paid to The Principal within this timeframe. The individual policy will then be in force on the 32nd day after the termination date of the coverage under the Group Policy.', passing=True, feedback='YES', score=1.0, pairwise_source=None, invalid_result=False, invalid_reason=None)"
            ]
          },
          "metadata": {},
          "execution_count": 36
        }
      ]
    },
    {
      "cell_type": "markdown",
      "source": [
        "# Step 8 - Presentation"
      ],
      "metadata": {
        "id": "fNofs4aeB8DT"
      }
    },
    {
      "cell_type": "code",
      "source": [
        "initialize_conv()"
      ],
      "metadata": {
        "colab": {
          "base_uri": "https://localhost:8080/",
          "height": 651
        },
        "id": "jEb3Qtlt-SXI",
        "outputId": "f1e72282-d9e6-4c0b-8249-9d43edb90681"
      },
      "execution_count": 58,
      "outputs": [
        {
          "output_type": "stream",
          "name": "stdout",
          "text": [
            "Feel free to ask Questions regarding insurance document. Press exit once you are done\n",
            "What is the page label for the document\n",
            "Condensed question: What is the page label for the document\n"
          ]
        },
        {
          "output_type": "display_data",
          "data": {
            "text/plain": [
              "<IPython.core.display.HTML object>"
            ],
            "text/html": [
              "<p style=\"font-size:20px\"><b>User:</b> What is the page label for the document</p>"
            ]
          },
          "metadata": {}
        },
        {
          "output_type": "display_data",
          "data": {
            "text/plain": [
              "<IPython.core.display.HTML object>"
            ],
            "text/html": [
              "<p style=\"font-size:20px\"><b>Assistant:</b> The page labels for the document are as follows:\n",
              "- Page 2: This page left blank intentionally\n",
              "- Page 4: This page left blank intentionally\n",
              "\n",
              "Therefore, the page labels for the document are 2 and 4.</p>"
            ]
          },
          "metadata": {}
        },
        {
          "output_type": "stream",
          "name": "stdout",
          "text": [
            "What is the file name of the document?\n",
            "Condensed question: What is the file name of the document?\n"
          ]
        },
        {
          "output_type": "display_data",
          "data": {
            "text/plain": [
              "<IPython.core.display.HTML object>"
            ],
            "text/html": [
              "<p style=\"font-size:20px\"><b>User:</b> What is the file name of the document?</p>"
            ]
          },
          "metadata": {}
        },
        {
          "output_type": "display_data",
          "data": {
            "text/plain": [
              "<IPython.core.display.HTML object>"
            ],
            "text/html": [
              "<p style=\"font-size:20px\"><b>Assistant:</b> The file name of the document is \"Principal-Sample-Life-Insurance-Policy.pdf\".</p>"
            ]
          },
          "metadata": {}
        },
        {
          "output_type": "stream",
          "name": "stdout",
          "text": [
            "What must a Dependent do in order to have their individual policy issued and in force after their coverage under the Group Policy terminates?\n",
            "Condensed question: What must a Dependent do in order to have their individual policy issued and in force after their coverage under the Group Policy terminates?\n"
          ]
        },
        {
          "output_type": "display_data",
          "data": {
            "text/plain": [
              "<IPython.core.display.HTML object>"
            ],
            "text/html": [
              "<p style=\"font-size:20px\"><b>User:</b> What must a Dependent do in order to have their individual policy issued and in force after their coverage under the Group Policy terminates?</p>"
            ]
          },
          "metadata": {}
        },
        {
          "output_type": "display_data",
          "data": {
            "text/plain": [
              "<IPython.core.display.HTML object>"
            ],
            "text/html": [
              "<p style=\"font-size:20px\"><b>Assistant:</b> In order to have their individual policy issued and in force after their coverage under the Group Policy terminates, a Dependent must follow these steps:\n",
              "\n",
              "1. The Dependent must qualify for individual purchase by meeting specific criteria outlined in the policy, such as termination of Dependent Life Insurance due to various reasons like the Member's death, end of Active Work, divorce, or Group Policy termination.\n",
              "2. The Policyholder must provide notice of the individual purchase right to the Member before the insurance under the Group Policy terminates or as soon as reasonably possible thereafter.\n",
              "3. The Dependent must apply for individual purchase within 31 days after the termination of Dependent Life Insurance under the Group Policy.\n",
              "4. The first premium for the individual policy must be paid to The Principal within the 31-day period.\n",
              "5. The individual policy will then be in force on the 32nd day after the termination date of the Dependent's coverage under the Group Policy.\n",
              "\n",
              "By following these steps, the Dependent can have their individual policy issued and in force after their coverage under the Group Policy terminates.</p>"
            ]
          },
          "metadata": {}
        },
        {
          "output_type": "stream",
          "name": "stdout",
          "text": [
            "exit\n",
            "Exiting the program... bye\n"
          ]
        }
      ]
    },
    {
      "cell_type": "code",
      "source": [],
      "metadata": {
        "id": "PSwbK-rmCImu"
      },
      "execution_count": null,
      "outputs": []
    }
  ]
}